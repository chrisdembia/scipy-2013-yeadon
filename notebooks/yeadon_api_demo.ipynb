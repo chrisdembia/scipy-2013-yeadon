{
 "metadata": {
  "name": "yeadon_api_demo"
 },
 "nbformat": 3,
 "nbformat_minor": 0,
 "worksheets": [
  {
   "cells": [
    {
     "cell_type": "markdown",
     "metadata": {},
     "source": [
      "The Yeadon package API is primarily based around the Human class. This class instanties all of the segements and solids that make up the Yeadon body segment parameter model."
     ]
    },
    {
     "cell_type": "code",
     "collapsed": false,
     "input": [
      "from yeadon import Human"
     ],
     "language": "python",
     "metadata": {},
     "outputs": [],
     "prompt_number": 1
    },
    {
     "cell_type": "markdown",
     "metadata": {},
     "source": [
      "The Human object takes one required argument and a couple of optional arguments for initialization.\n",
      "\n",
      "- The 95 measurements required to generate the model.\n",
      "- The joint angles for a specifying a configuration.\n",
      "- Whether to enforce symmetry about the saggital plane.\n",
      "- The density values of the various body segments."
     ]
    },
    {
     "cell_type": "code",
     "collapsed": false,
     "input": [
      "Human?"
     ],
     "language": "python",
     "metadata": {},
     "outputs": [],
     "prompt_number": 17
    },
    {
     "cell_type": "markdown",
     "metadata": {},
     "source": [
      "The typical way to provide the 95 measuremetns is to create an input file. We use PyYaml to process the input file, so formatting rules follow YAML definitions."
     ]
    },
    {
     "cell_type": "code",
     "collapsed": false,
     "input": [
      "!cat male1.txt"
     ],
     "language": "python",
     "metadata": {},
     "outputs": [
      {
       "output_type": "stream",
       "stream": "stdout",
       "text": [
        "# yeadon. (cld72@cornell.edu)\r\n",
        "# Measurement input template.\r\n",
        "# Lines beginning with pound are comment lines.\r\n",
        "# There are 95 measurements, consisting of lengths, perimeters, widths, and\r\n",
        "# depths.\r\n",
        "#\r\n",
        "# For details about how the measurements are to be taken, consult the journal\r\n",
        "# article Yeadon 1989-ii or the documentation\r\n",
        "# <http://packages.python.org/yeadon/> of this python package.\r\n",
        "#\r\n",
        "# CONVERSION FACTOR to convert measurements INTO meters\r\n",
        "# (set to 1 if measurements are in meters, 0.001 if measurements are in mm,\r\n",
        "# 0.0254 if measurements are in inches)\r\n",
        "measurementconversionfactor :  .01\r\n",
        "#\r\n",
        "##############################################################################\r\n",
        "# TORSO\r\n",
        "# Ls0 hip joint centre\r\n",
        "# Ls1 umbilicus\r\n",
        "# Ls2 lowest front rib\r\n",
        "# Ls3 nipple\r\n",
        "# Ls4 shoulder joint centre\r\n",
        "# Ls5 acromion\r\n",
        "# Ls6 beneath nose\r\n",
        "# Ls7 above ear\r\n",
        "# Ls8 top of head\r\n",
        "#\r\n",
        "# lengths to levels 1 through 5 are measured from Ls0, the hip centre:\r\n",
        "Ls1L: 4.9\r\n",
        "Ls2L: 18.8\r\n",
        "Ls3L: 33.4\r\n",
        "Ls4L: 47.2\r\n",
        "Ls5L: 50.2\r\n",
        "# lengths to levels 6 through 8 are measured from Ls5, the acromion:\r\n",
        "Ls6L: 14.9\r\n",
        "Ls7L: 19\r\n",
        "Ls8L: 29.2\r\n",
        "#\r\n",
        "# stadium parameters:\r\n",
        "Ls0p: 86.9\r\n",
        "Ls1p: 75\r\n",
        "Ls2p: 73.9\r\n",
        "Ls3p: 80.6\r\n",
        "Ls5p: 37.5\r\n",
        "Ls6p: 49.8\r\n",
        "Ls7p: 57\r\n",
        "#\r\n",
        "# stadium widths:\r\n",
        "# width nor depth are measured for Ls5, acromion, because its shape is set by\r\n",
        "# estimates from Ls4, shoulder joint centre.\r\n",
        "Ls0w: 32.4\r\n",
        "Ls1w: 27.4\r\n",
        "Ls2w: 25.1\r\n",
        "Ls3w: 28\r\n",
        "Ls4w: 30.3\r\n",
        "#\r\n",
        "# depth: the presence of the shoulder joint at Ls4, the shoulder joint centre,\r\n",
        "# makes it difficult to measure the width of the Ls4 stadium. Therefore the\r\n",
        "# depth (=2r) of the stadium is measured instead.\r\n",
        "Ls4d: 15.1\r\n",
        "# torso (s) levels 5 through 8 do not have widths because they are circles EDIT.\r\n",
        "#\r\n",
        "##############################################################################\r\n",
        "# LEFT ARM\r\n",
        "#\r\n",
        "# lengths measured from La0, shoulder joint centre:\r\n",
        "# La1L is not measured because it is set to be .5 * La2L.\r\n",
        "# Accordingly, La1p should be measured at the location .5 * La2L\r\n",
        "La2L: 26.1\r\n",
        "La3L: 33\r\n",
        "La4L: 50.8\r\n",
        "# lengths measured from La4, wrist joint centre:\r\n",
        "La5L: 3\r\n",
        "La6L: 8.8\r\n",
        "La7L: 17.7\r\n",
        "#\r\n",
        "# stadium perimeters:\r\n",
        "La0p: 28.5\r\n",
        "La1p: 24.2\r\n",
        "La2p: 23\r\n",
        "La3p: 23.5\r\n",
        "La4p: 15.4\r\n",
        "La5p: 21\r\n",
        "La6p: 21.5\r\n",
        "La7p: 10.7\r\n",
        "#\r\n",
        "# stadium widths:\r\n",
        "# arm levels 0-3 are do not have widths because they are circles\r\n",
        "La4w: 5\r\n",
        "La5w: 7.3\r\n",
        "La6w: 9.8\r\n",
        "La7w: 4.9\r\n",
        "#\r\n",
        "##############################################################################\r\n",
        "# RIGHT ARM\r\n",
        "#\r\n",
        "# lengths measured from Lb0, shoulder joint centre:\r\n",
        "# Lb1L is not measured because it is set to be .5 * Lb2L.\r\n",
        "# Accordingly, Lb1p should be measured at the location .5 * Lb2L\r\n",
        "Lb2L: 26.6\r\n",
        "Lb3L: 32.4\r\n",
        "Lb4L: 51.9\r\n",
        "# lengths measured from Lb4, wrist joint centre:\r\n",
        "Lb5L: 1.5\r\n",
        "Lb6L: 7.2\r\n",
        "Lb7L: 16.6\r\n",
        "#\r\n",
        "# stadium perimeters:\r\n",
        "Lb0p: 29\r\n",
        "Lb1p: 24.2\r\n",
        "Lb2p: 22.7\r\n",
        "Lb3p: 23.4\r\n",
        "Lb4p: 15.2\r\n",
        "Lb5p: 20.9\r\n",
        "Lb6p: 22.4\r\n",
        "Lb7p: 11\r\n",
        "#\r\n",
        "# stadium widths:\r\n",
        "# arm levels 0-3 are do not have widths because they are circles\r\n",
        "Lb4w: 5.2\r\n",
        "Lb5w: 7.2\r\n",
        "Lb6w: 9.6\r\n",
        "Lb7w: 5\r\n",
        "#\r\n",
        "##############################################################################\r\n",
        "# LEFT LEG\r\n",
        "#\r\n",
        "# lengths measured from Lj0, hip joint centre:\r\n",
        "Lj1L: 10.1\r\n",
        "# Lj2L is not measured because it is set as the average of Lj1L and Lj3L.\r\n",
        "Lj3L: 42.6\r\n",
        "Lj4L: 56.5\r\n",
        "Lj5L: 81.6\r\n",
        "# lengths measured from Lj5, ankle joint centre:\r\n",
        "Lj6L: 2.5\r\n",
        "# Lj7L is not measured because it is set as the average of Lj6L and Lj8L.\r\n",
        "Lj8L: 14.9\r\n",
        "Lj9L: 21\r\n",
        "#\r\n",
        "# stadium perimeters:\r\n",
        "# Lj0p is not measured because it is set by Ls0p and Ls0w.\r\n",
        "Lj1p: 52\r\n",
        "Lj2p: 48.9\r\n",
        "Lj3p: 35.1\r\n",
        "Lj4p: 35.2\r\n",
        "Lj5p: 25.5\r\n",
        "Lj6p: 30.2\r\n",
        "Lj7p: 23.3\r\n",
        "Lj8p: 22.8\r\n",
        "Lj9p: 18.5\r\n",
        "#\r\n",
        "# stadium widths:\r\n",
        "# leg levels 0-5 and 7 do not have widths because they are circles\r\n",
        "Lj8w: 8.7\r\n",
        "Lj9w: 8.2\r\n",
        "#\r\n",
        "# stadium depths:\r\n",
        "# this stadium is rotated 90 degrees from the other, so that its longitudinal\r\n",
        "# axis is oriented anteroposteriorly (from back to front)\r\n",
        "Lj6d: 11.4\r\n",
        "#\r\n",
        "##############################################################################\r\n",
        "# RIGHT LEG\r\n",
        "#\r\n",
        "# lengths measured from Lk0, hip joint centre:\r\n",
        "Lk1L: 9.7\r\n",
        "# Lk2L is not measured because it is set as the average of Lk1L and Lk3L.\r\n",
        "Lk3L: 42.2\r\n",
        "Lk4L: 55.8\r\n",
        "Lk5L: 80.6\r\n",
        "# lengths measured from Lk5, ankle joint centre:\r\n",
        "Lk6L: 2.5\r\n",
        "# Lk7L is not measured because it is set as the average of Lk6L and Lk8L.\r\n",
        "Lk8L: 14.5\r\n",
        "Lk9L: 20.8\r\n",
        "#\r\n",
        "# stadium perimeters:\r\n",
        "# Lk0p is not measured because it is set by Ls0p and Ls0w.\r\n",
        "Lk1p: 55\r\n",
        "Lk2p: 50\r\n",
        "Lk3p: 34.8\r\n",
        "Lk4p: 34.9\r\n",
        "Lk5p: 23\r\n",
        "Lk6p: 31\r\n",
        "Lk7p: 23.7\r\n",
        "Lk8p: 22.2\r\n",
        "Lk9p: 19.5\r\n",
        "#\r\n",
        "# stadium widths:\r\n",
        "# leg levels 0-5 and 7 do not have widths because they are circles\r\n",
        "Lk8w: 8.6\r\n",
        "Lk9w: 8.3\r\n",
        "#\r\n",
        "# stadium depths:\r\n",
        "# this stadium is rotated 90 degrees from the other, so that its longitudinal\r\n",
        "# axis is oriented anteroposteriorly (from back to front)\r\n",
        "Lk6d: 11.1\r\n"
       ]
      }
     ],
     "prompt_number": 3
    },
    {
     "cell_type": "markdown",
     "metadata": {},
     "source": [
      "Now the Human object can be created."
     ]
    },
    {
     "cell_type": "code",
     "collapsed": false,
     "input": [
      "male = Human('male1.txt')"
     ],
     "language": "python",
     "metadata": {},
     "outputs": [],
     "prompt_number": 4
    },
    {
     "cell_type": "markdown",
     "metadata": {},
     "source": [
      "We can inspect the inertial properties by accessing the various attributes."
     ]
    },
    {
     "cell_type": "code",
     "collapsed": false,
     "input": [
      "male.mass # in kilograms"
     ],
     "language": "python",
     "metadata": {},
     "outputs": [
      {
       "output_type": "pyout",
       "prompt_number": 18,
       "text": [
        "58.200488588422544"
       ]
      }
     ],
     "prompt_number": 18
    },
    {
     "cell_type": "code",
     "collapsed": false,
     "input": [
      "male.center_of_mass # in meters"
     ],
     "language": "python",
     "metadata": {},
     "outputs": [
      {
       "output_type": "pyout",
       "prompt_number": 5,
       "text": [
        "array([[ -9.53791842e-19],\n",
        "       [  0.00000000e+00],\n",
        "       [  1.19967938e-02]])"
       ]
      }
     ],
     "prompt_number": 5
    },
    {
     "cell_type": "code",
     "collapsed": false,
     "input": [
      "male.inertia # in kg * m^2"
     ],
     "language": "python",
     "metadata": {},
     "outputs": [
      {
       "output_type": "pyout",
       "prompt_number": 19,
       "text": [
        "matrix([[  9.65586246e+00,   2.36522200e-02,  -9.79707030e-03],\n",
        "        [  2.36522200e-02,   9.99377605e+00,   3.95924793e-03],\n",
        "        [ -9.79707030e-03,   3.95924793e-03,   5.71244374e-01]])"
       ]
      }
     ],
     "prompt_number": 19
    },
    {
     "cell_type": "markdown",
     "metadata": {},
     "source": [
      "If the configuration is not specified at instantiation the joints angles are all set to the default of zero and they are stored in the CFG dictionary."
     ]
    },
    {
     "cell_type": "code",
     "collapsed": false,
     "input": [
      "male.CFG"
     ],
     "language": "python",
     "metadata": {},
     "outputs": [
      {
       "output_type": "pyout",
       "prompt_number": 7,
       "text": [
        "{'A1A2flexion': 0.0,\n",
        " 'B1B2flexion': 0.0,\n",
        " 'CA1abduction': 0.0,\n",
        " 'CA1elevation': 0.0,\n",
        " 'CA1rotation': 0.0,\n",
        " 'CB1abduction': 0.0,\n",
        " 'CB1elevation': 0.0,\n",
        " 'CB1rotation': 0.0,\n",
        " 'J1J2flexion': 0.0,\n",
        " 'K1K2flexion': 0.0,\n",
        " 'PJ1abduction': 0.0,\n",
        " 'PJ1flexion': 0.0,\n",
        " 'PK1abduction': 0.0,\n",
        " 'PK1flexion': 0.0,\n",
        " 'PTfrontalFlexion': 0.0,\n",
        " 'PTsagittalFlexion': 0.0,\n",
        " 'TClateralSpinalFlexion': 0.0,\n",
        " 'TCspinalTorsion': 0.0,\n",
        " 'somersalt': 0.0,\n",
        " 'tilt': 0.0,\n",
        " 'twist': 0.0}"
       ]
      }
     ],
     "prompt_number": 7
    },
    {
     "cell_type": "markdown",
     "metadata": {},
     "source": [
      "At this point it may be useful to visualize what the model looks like in the default configuration. You can do this by calling the `draw` method. This opens a MayaVi scene and displays a 3D visualization of the model."
     ]
    },
    {
     "cell_type": "code",
     "collapsed": false,
     "input": [
      "male.draw()"
     ],
     "language": "python",
     "metadata": {},
     "outputs": [],
     "prompt_number": 9
    },
    {
     "cell_type": "markdown",
     "metadata": {},
     "source": [
      "The joint angles can be changed by calling the `set_CFG` method. Here we set the left elbow flexion. All of the angles should be specified in radians."
     ]
    },
    {
     "cell_type": "code",
     "collapsed": false,
     "input": [
      "from numpy import deg2rad"
     ],
     "language": "python",
     "metadata": {},
     "outputs": [],
     "prompt_number": 11
    },
    {
     "cell_type": "code",
     "collapsed": false,
     "input": [
      "male.set_CFG('A1A2flexion', deg2rad(-45.0))"
     ],
     "language": "python",
     "metadata": {},
     "outputs": [],
     "prompt_number": 15
    },
    {
     "cell_type": "markdown",
     "metadata": {},
     "source": [
      "Now we can see that the CFG dictionary has been modified and the inertial properties reflect the new configuration of the human."
     ]
    },
    {
     "cell_type": "code",
     "collapsed": false,
     "input": [
      "male.CFG"
     ],
     "language": "python",
     "metadata": {},
     "outputs": [
      {
       "output_type": "pyout",
       "prompt_number": 16,
       "text": [
        "{'A1A2flexion': -0.78539816339744828,\n",
        " 'B1B2flexion': 0.0,\n",
        " 'CA1abduction': 0.0,\n",
        " 'CA1elevation': 0.0,\n",
        " 'CA1rotation': 0.0,\n",
        " 'CB1abduction': 0.0,\n",
        " 'CB1elevation': 0.0,\n",
        " 'CB1rotation': 0.0,\n",
        " 'J1J2flexion': 0.0,\n",
        " 'K1K2flexion': 0.0,\n",
        " 'PJ1abduction': 0.0,\n",
        " 'PJ1flexion': 0.0,\n",
        " 'PK1abduction': 0.0,\n",
        " 'PK1flexion': 0.0,\n",
        " 'PTfrontalFlexion': 0.0,\n",
        " 'PTsagittalFlexion': 0.0,\n",
        " 'TClateralSpinalFlexion': 0.0,\n",
        " 'TCspinalTorsion': 0.0,\n",
        " 'somersalt': 0.0,\n",
        " 'tilt': 0.0,\n",
        " 'twist': 0.0}"
       ]
      }
     ],
     "prompt_number": 16
    },
    {
     "cell_type": "markdown",
     "metadata": {},
     "source": [
      "We can check the visualization to see if the joint angle was properly set."
     ]
    },
    {
     "cell_type": "code",
     "collapsed": false,
     "input": [
      "male.draw()"
     ],
     "language": "python",
     "metadata": {},
     "outputs": [],
     "prompt_number": 14
    },
    {
     "cell_type": "markdown",
     "metadata": {},
     "source": [
      "And also verify that the center of mass and inertia tensor reflect the new changes to the configuration."
     ]
    },
    {
     "cell_type": "code",
     "collapsed": false,
     "input": [
      "male.mass"
     ],
     "language": "python",
     "metadata": {},
     "outputs": [
      {
       "output_type": "pyout",
       "prompt_number": 23,
       "text": [
        "58.200488588422544"
       ]
      }
     ],
     "prompt_number": 23
    },
    {
     "cell_type": "code",
     "collapsed": false,
     "input": [
      "male.center_of_mass"
     ],
     "language": "python",
     "metadata": {},
     "outputs": [
      {
       "output_type": "pyout",
       "prompt_number": 24,
       "text": [
        "array([[ -9.53791842e-19],\n",
        "       [ -2.68245624e-03],\n",
        "       [  1.31079036e-02]])"
       ]
      }
     ],
     "prompt_number": 24
    },
    {
     "cell_type": "code",
     "collapsed": false,
     "input": [
      "male.inertia"
     ],
     "language": "python",
     "metadata": {},
     "outputs": [
      {
       "output_type": "pyout",
       "prompt_number": 25,
       "text": [
        "matrix([[  9.65586246e+00,   2.36522200e-02,  -9.79707030e-03],\n",
        "        [  2.36522200e-02,   9.99377605e+00,   3.95924793e-03],\n",
        "        [ -9.79707030e-03,   3.95924793e-03,   5.71244374e-01]])"
       ]
      }
     ],
     "prompt_number": 25
    },
    {
     "cell_type": "code",
     "collapsed": false,
     "input": [
      "male.print_properties()"
     ],
     "language": "python",
     "metadata": {},
     "outputs": [
      {
       "output_type": "stream",
       "stream": "stdout",
       "text": [
        "Mass (kg): 58.2004885884 \n",
        "\n",
        "COM in global frame from bottom center of pelvis (Ls0) (m):\n",
        "[[ -9.53791842e-19]\n",
        " [ -2.68245624e-03]\n",
        " [  1.31079036e-02]] \n",
        "\n",
        "Inertia tensor in global frame about human's COM (kg-m^2):\n",
        "[[  9.65586246e+00   2.36522200e-02  -9.79707030e-03]\n",
        " [  2.36522200e-02   9.99377605e+00   3.95924793e-03]\n",
        " [ -9.79707030e-03   3.95924793e-03   5.71244374e-01]] \n",
        "\n"
       ]
      }
     ],
     "prompt_number": 27
    },
    {
     "cell_type": "markdown",
     "metadata": {},
     "source": [
      "It is also useful to know the inertial properties of individual segments. These can be accessed from the appropirate attributes. For example if we want to know the upper arm's properties:"
     ]
    },
    {
     "cell_type": "code",
     "collapsed": false,
     "input": [
      "male.A1.mass"
     ],
     "language": "python",
     "metadata": {},
     "outputs": [
      {
       "output_type": "pyout",
       "prompt_number": 34,
       "text": [
        "1.4092664792050167"
       ]
      }
     ],
     "prompt_number": 34
    },
    {
     "cell_type": "code",
     "collapsed": false,
     "input": [
      "male.A1.center_of_mass"
     ],
     "language": "python",
     "metadata": {},
     "outputs": [
      {
       "output_type": "pyout",
       "prompt_number": 35,
       "text": [
        "matrix([[ 0.1515    ],\n",
        "        [ 0.        ],\n",
        "        [ 0.34540647]])"
       ]
      }
     ],
     "prompt_number": 35
    },
    {
     "cell_type": "code",
     "collapsed": false,
     "input": [
      "male.A1.inertia"
     ],
     "language": "python",
     "metadata": {},
     "outputs": [
      {
       "output_type": "pyout",
       "prompt_number": 36,
       "text": [
        "matrix([[ 0.00840325,  0.        ,  0.        ],\n",
        "        [ 0.        ,  0.00840325,  0.        ],\n",
        "        [ 0.        ,  0.        ,  0.00114423]])"
       ]
      }
     ],
     "prompt_number": 36
    },
    {
     "cell_type": "markdown",
     "metadata": {},
     "source": [
      "You can also retrieve the properties of a group of segments or solids with the `combine_inertia` method. This applies the parallel axis thereom and returns the propetires for the group."
     ]
    },
    {
     "cell_type": "code",
     "collapsed": false,
     "input": [
      "mass, com, inertia = male.combine_inertia(['A1', 'A2'])\n"
     ],
     "language": "python",
     "metadata": {},
     "outputs": [
      {
       "output_type": "stream",
       "stream": "stdout",
       "text": [
        "Combining segments/solids ['A1', 'A2'] .\n"
       ]
      }
     ],
     "prompt_number": 29
    },
    {
     "cell_type": "code",
     "collapsed": false,
     "input": [
      "mass"
     ],
     "language": "python",
     "metadata": {},
     "outputs": [
      {
       "output_type": "pyout",
       "prompt_number": 30,
       "text": [
        "2.7348094991644585"
       ]
      }
     ],
     "prompt_number": 30
    },
    {
     "cell_type": "code",
     "collapsed": false,
     "input": [
      "com"
     ],
     "language": "python",
     "metadata": {},
     "outputs": [
      {
       "output_type": "pyout",
       "prompt_number": 31,
       "text": [
        "array([[ 0.1515    ],\n",
        "       [-0.05708634],\n",
        "       [ 0.22196252]])"
       ]
      }
     ],
     "prompt_number": 31
    },
    {
     "cell_type": "code",
     "collapsed": false,
     "input": [
      "inertia"
     ],
     "language": "python",
     "metadata": {},
     "outputs": [
      {
       "output_type": "pyout",
       "prompt_number": 33,
       "text": [
        "matrix([[  7.91278866e-02,   3.85185989e-34,   0.00000000e+00],\n",
        "        [  3.85185989e-34,   6.16128789e-02,  -2.86471906e-02],\n",
        "        [  0.00000000e+00,  -2.86471906e-02,   1.95227653e-02]])"
       ]
      }
     ],
     "prompt_number": 33
    },
    {
     "cell_type": "code",
     "collapsed": false,
     "input": [],
     "language": "python",
     "metadata": {},
     "outputs": []
    }
   ],
   "metadata": {}
  }
 ]
}